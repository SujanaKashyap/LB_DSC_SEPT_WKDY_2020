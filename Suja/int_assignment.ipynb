{
  "nbformat": 4,
  "nbformat_minor": 0,
  "metadata": {
    "colab": {
      "name": "int_assignment.ipynb",
      "provenance": []
    },
    "kernelspec": {
      "name": "python3",
      "display_name": "Python 3"
    }
  },
  "cells": [
    {
      "cell_type": "code",
      "metadata": {
        "id": "8A5Jw5NR1iEI",
        "colab_type": "code",
        "colab": {}
      },
      "source": [
        "#Declare an int value and store it in a variable. \n",
        "\n",
        "a=50\n",
        "\n",
        "#Check the type and print the id of the same.\n",
        "\n",
        "print(type(a), id(a))\n"
      ],
      "execution_count": null,
      "outputs": []
    },
    {
      "cell_type": "code",
      "metadata": {
        "id": "0YU8LFTn1rAX",
        "colab_type": "code",
        "colab": {}
      },
      "source": [
        "#Take one int value between 0 - 256.\n",
        "#Assign it to two different variables.\n",
        "#Check the id of both the variables. It should come same. Check why?\n",
        "\n",
        "a=200\n",
        "b=200\n",
        "\n",
        "print(id(a), id(b))\n",
        "\n",
        "\n",
        "#Take one int value either less than -5 or greater than 256.\n",
        "#Assign it to two different variables.\n",
        "#Check the id of both the variables. It should come different.Check why?\n",
        "\n",
        "a=-2\n",
        "b=-2\n",
        "print(id(a), id(b))\n"
      ],
      "execution_count": null,
      "outputs": []
    },
    {
      "cell_type": "code",
      "metadata": {
        "id": "YzEIG0ZZ1tSK",
        "colab_type": "code",
        "colab": {}
      },
      "source": [
        "#Arithmatic Operations on integers\n",
        "#Take two different intger values.\n",
        "#Store them in two different variables.\n",
        "#Do below operations on them:-\n",
        "    #Find sum of both numbers\n",
        "    #Find differce between them\n",
        "    #Find the product of both numbers.\n",
        "    #Find value after dividing first num with second number\n",
        "    #Find the remainder after dividing first number with second number\n",
        "    #Find the quotient after dividing first number with second number\n",
        "    #Find the result of first num to the power of second number.\n",
        "\n",
        "a=10\n",
        "b=20\n",
        "\n",
        "c=a+b\n",
        "print(c)\n",
        "\n",
        "c=a-b\n",
        "print(c)\n",
        "\n",
        "c=a*b\n",
        "print(c)\n",
        "\n",
        "c=a/b\n",
        "print(c)\n",
        "\n",
        "c=(a//b)\n",
        "print(c)\n",
        "\n",
        "c=a%b\n",
        "print(c)\n",
        "\n",
        "c=a**b\n",
        "print(c)"
      ],
      "execution_count": null,
      "outputs": []
    },
    {
      "cell_type": "code",
      "metadata": {
        "id": "GGM7CdzA1wGn",
        "colab_type": "code",
        "colab": {}
      },
      "source": [
        "#Comparison Operators on integers\n",
        "#Take two different intger values.\n",
        "#Store them in two different variables.\n",
        "#Do below operations on them:-\n",
        "    #Compare se two numbers with below operator:-\n",
        "        #Greater than, '>'\n",
        "        #Smaller than, '<'\n",
        "        #Greater than or equal to, '>='\n",
        "        #Less than or equal to, '<='\n",
        "#Observe their output(return type should be boolean)\n",
        "\n",
        "a=20\n",
        "b=30\n",
        "\n",
        "print(a>b)\n",
        "print(a<b)\n",
        "print(a>=b)\n",
        "print(a<=b)\n"
      ],
      "execution_count": null,
      "outputs": []
    },
    {
      "cell_type": "code",
      "metadata": {
        "id": "9x904sUE1y9t",
        "colab_type": "code",
        "colab": {}
      },
      "source": [
        "#Equality Operator\n",
        "#Take two different intger values.\n",
        "#Store them in two different variables.\n",
        "#Equuate them using equality operator (==, !=)\n",
        "#Observe the output(return type should be boolean)\n",
        "\n",
        "\n",
        "a=10\n",
        "b=20\n",
        "\n",
        "print(a==b)\n",
        "print(a!=b)"
      ],
      "execution_count": null,
      "outputs": []
    },
    {
      "cell_type": "code",
      "metadata": {
        "id": "JmQFHUwc11S-",
        "colab_type": "code",
        "colab": {}
      },
      "source": [
        "#Logical operators\n",
        "#Observe the output of below code\n",
        "#Cross check the output manually\n",
        "\n",
        "print(10 and 20)       #----------------------------------------->Output is 20\n",
        "print(0 and 20)        #----------------------------------------->Output is 0\n",
        "print(20 and 0)        #----------------------------------------->Output is 0\n",
        "print(0 and 0)         #----------------------------------------->Output is 0\n",
        "\n",
        "print(10 or 20)        #----------------------------------------->Output is 10\n",
        "print(0 or 20)         #----------------------------------------->Output is 20\n",
        "print(20 or 0)         #----------------------------------------->Output is 20\n",
        "print(0 or 0)          #----------------------------------------->Output is 0\n",
        "\n",
        "print(not 10)          #----------------------------------------->Output is False\n",
        "print(not 0)           #----------------------------------------->Output is True"
      ],
      "execution_count": null,
      "outputs": []
    },
    {
      "cell_type": "code",
      "metadata": {
        "id": "-0tvoulX14Hi",
        "colab_type": "code",
        "colab": {}
      },
      "source": [
        "#Bitwise Operators\n",
        "#Do below operations on the values provided below:-\n",
        "    #Bitwise and(&) -----------------------------------------> 10, 20   -------> Output is 0\n",
        "    #Bitwise or(|)  -----------------------------------------> 10, 20   -------> Output is 30\n",
        "    #Bitwise(^)     -----------------------------------------> 10, 20   -------> Output is 30\n",
        "    #Bitwise negation(~) ------------------------------------> 10       -------> Output is -11\n",
        "    #Bitwise left shift  ------------------------------------> 10,2     -------> Output is 40\n",
        "    #Bitwise right shift ------------------------------------> 10,2     -------> Output is 2\n",
        "#Cross check the output manually"
      ],
      "execution_count": null,
      "outputs": []
    },
    {
      "cell_type": "code",
      "metadata": {
        "id": "YCcx-Qx016hg",
        "colab_type": "code",
        "colab": {}
      },
      "source": [
        "#What is the output of expression inside print statement. Cross check before running the program.\n",
        "a = 10\n",
        "b = 10\n",
        "print(a is b)    \n",
        "True                            #True or False?\n",
        "print(a is not b)      #True or False?\n",
        "False\n",
        "\n",
        "a = 1000\n",
        "b = 1000\n",
        "print(a is b)          #True or False?\n",
        "True\n",
        "print(a is not b)      #True or False?\n",
        "False"
      ],
      "execution_count": null,
      "outputs": []
    },
    {
      "cell_type": "code",
      "metadata": {
        "id": "Un2To3XN1_Il",
        "colab_type": "code",
        "colab": {}
      },
      "source": [
        "#What is the output of expression inside print statement. Cross check before running the program.\n",
        "print(10+(10*32)//2**5&20+(~(-10))<<2)\n",
        "\n",
        "\n",
        "20"
      ],
      "execution_count": null,
      "outputs": []
    },
    {
      "cell_type": "code",
      "metadata": {
        "id": "kGRb5RMd1_1I",
        "colab_type": "code",
        "colab": {}
      },
      "source": [
        "#Membership operation\n",
        "#in, not in are two membership operators and it returns boolean value\n",
        "\n",
        "print('2' in 'Python2.7.8')\n",
        "True\n",
        "print(10 in [10,10.20,10+20j,'Python'])\n",
        "True\n",
        "print(10 in (10,10.20,10+20j,'Python'))\n",
        "True\n",
        "print(2 in {1,2,3})\n",
        "True\n",
        "print(3 in {1:100, 2:200, 3:300})\n",
        "True\n",
        "print(10 in range(20))\n",
        "True"
      ],
      "execution_count": null,
      "outputs": []
    },
    {
      "cell_type": "code",
      "metadata": {
        "id": "Es7iSvL92B9W",
        "colab_type": "code",
        "colab": {}
      },
      "source": [
        "#An integer can be represented in binary, octal or hexadecimal form.\n",
        "#Declare one binary, one octal and one hexadecimal value and store them in three different variables.\n",
        "#Convert 9876 to its binary, octal and hexadecimal equivalent and print their corresponding value.\n",
        "\n",
        "a=0b1010\n",
        "print(a)\n",
        "\n",
        "b=0o1010\n",
        "print(b)\n",
        "\n",
        "c=0x1010\n",
        "print(c)\n",
        "\n",
        "print(bin(9876))\n",
        "print(oct(9876))\n",
        "print(hex(9876))"
      ],
      "execution_count": null,
      "outputs": []
    },
    {
      "cell_type": "code",
      "metadata": {
        "id": "Hm0r03lH2E0i",
        "colab_type": "code",
        "colab": {}
      },
      "source": [
        "#What will be the outut of following:-\n",
        "a = 0b1010000\n",
        "print(a)\n",
        "\n",
        "80\n",
        "\n",
        "b = 0o7436\n",
        "print(b)\n",
        "\n",
        "3870\n",
        "\n",
        "\n",
        "c = 0xfade\n",
        "print(c)\n",
        "\n",
        "64222\n",
        "\n",
        "print(bin(80))\n",
        "0b1010000\n",
        "\n",
        "print(oct(3870))\n",
        "0o7436\n",
        "\n",
        "print(hex(64222))\n",
        "0xfade\n",
        "\n",
        "print(bin(0b1010000))\n",
        "0b1010000\n",
        "\n",
        "print(bin(0xfade))\n",
        "0b1111101011011110\n",
        "\n",
        "print(oct(0xfade))\n",
        "0o175336\n",
        "\n",
        "print(oct(0o7436))\n",
        "0o7436\n",
        "\n",
        "print(hex(0b1010000))\n",
        "0x50\n",
        "\n",
        "print(hex(0xfade))\n",
        "0xfade"
      ],
      "execution_count": null,
      "outputs": []
    }
  ]
}