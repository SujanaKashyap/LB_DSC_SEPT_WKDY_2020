{
  "nbformat": 4,
  "nbformat_minor": 0,
  "metadata": {
    "colab": {
      "name": "Copy of List_Assignment.ipynb",
      "provenance": [],
      "collapsed_sections": []
    },
    "kernelspec": {
      "name": "python3",
      "display_name": "Python 3"
    }
  },
  "cells": [
    {
      "cell_type": "code",
      "metadata": {
        "id": "gtlAv2oq9yzd",
        "colab_type": "code",
        "colab": {
          "base_uri": "https://localhost:8080/",
          "height": 34
        },
        "outputId": "d4c98b47-3c69-4f6c-ce1d-e3699cb67bc1"
      },
      "source": [
        "#Write a Python program to find the sum of all elements in a list using loop.\n",
        "#Input:- [10,20,30,40]\n",
        "#Output:- 100\n",
        "\n",
        "lst=[10, 20, 30, 40]\n",
        "Sum=0\n",
        "for i in lst:\n",
        " Sum=Sum+i\n",
        "print(\"Sum=\", Sum)\n",
        "\n"
      ],
      "execution_count": null,
      "outputs": [
        {
          "output_type": "stream",
          "text": [
            "Sum=  100\n"
          ],
          "name": "stdout"
        }
      ]
    },
    {
      "cell_type": "code",
      "metadata": {
        "id": "gTbA8psa93Y_",
        "colab_type": "code",
        "colab": {
          "base_uri": "https://localhost:8080/",
          "height": 34
        },
        "outputId": "3430c865-43e5-43d3-986b-cd02f8d3a2df"
      },
      "source": [
        "#Write a Python program to find the multiplication of all elements in a list using loop.\n",
        "#Input:- [10,20,30,40]\n",
        "#Output:- 240000\n",
        "\n",
        "lst= [10,20,30,40]\n",
        "prod=1\n",
        "for i in lst:\n",
        "  prod= prod*i\n",
        "print(\"Prod=\", prod)\n"
      ],
      "execution_count": null,
      "outputs": [
        {
          "output_type": "stream",
          "text": [
            "Prod= 240000\n"
          ],
          "name": "stdout"
        }
      ]
    },
    {
      "cell_type": "code",
      "metadata": {
        "id": "XBCrEtLN94Lj",
        "colab_type": "code",
        "colab": {
          "base_uri": "https://localhost:8080/",
          "height": 34
        },
        "outputId": "7b05d104-f6f1-457c-b5f6-389ae0a408ba"
      },
      "source": [
        "#Write a Python program to find the largest number from a list using loop.\n",
        "#Input:- [10,100,2321, 1,200,2]\n",
        "#Output:- 2321\n",
        "\n",
        "lst= [10,100,2321, 1,200,2]\n",
        "for i in lst:\n",
        "  max(lst)\n",
        "print(max(lst))\n"
      ],
      "execution_count": null,
      "outputs": [
        {
          "output_type": "stream",
          "text": [
            "2321\n"
          ],
          "name": "stdout"
        }
      ]
    },
    {
      "cell_type": "code",
      "metadata": {
        "id": "l3paUtbH94Vw",
        "colab_type": "code",
        "colab": {
          "base_uri": "https://localhost:8080/",
          "height": 34
        },
        "outputId": "24854223-b07d-492c-ba3e-81f6a9ac9247"
      },
      "source": [
        "#Write a Python program to find the smallest number from a list using loop.\n",
        "#Input:- [10,100,2321, 1,200,2]\n",
        "#Output:- 1\n",
        "\n",
        "lst= [10,100,2321, 1,200,2]\n",
        "for i in lst:\n",
        "  min(lst)\n",
        "print(min(lst))\n",
        "\n"
      ],
      "execution_count": null,
      "outputs": [
        {
          "output_type": "stream",
          "text": [
            "1\n"
          ],
          "name": "stdout"
        }
      ]
    },
    {
      "cell_type": "code",
      "metadata": {
        "id": "JTVgy5VD94cE",
        "colab_type": "code",
        "colab": {
          "base_uri": "https://localhost:8080/",
          "height": 34
        },
        "outputId": "15ea061e-4feb-4f9e-9500-19ddad711e33"
      },
      "source": [
        "#Write a Python program to count the number of strings having length more than 2 and are palindrome in a list using loop.\n",
        "#Input:- ['ab', 'abc', 'aba', 'xyz', '1991']\n",
        "#Output:- 2\n",
        "\n",
        "lst= ['ab', 'abc', 'aba', 'xyz', '1991']\n",
        "def match_words(lst):\n",
        "  ctr=0\n",
        "  for i in lst:\n",
        "    if len(i) > 1 and i[0] == i[-1]:\n",
        "      ctr += 1\n",
        "  return ctr\n",
        "\n",
        "print(match_words(lst))"
      ],
      "execution_count": null,
      "outputs": [
        {
          "output_type": "stream",
          "text": [
            "2\n"
          ],
          "name": "stdout"
        }
      ]
    },
    {
      "cell_type": "code",
      "metadata": {
        "id": "xs-ZGJbJ94gr",
        "colab_type": "code",
        "colab": {
          "base_uri": "https://localhost:8080/",
          "height": 34
        },
        "outputId": "562f7538-5917-4dd5-aec8-8be3d1b33b95"
      },
      "source": [
        "#Write a Python program to sort a list in ascending order using loop.\n",
        "#Input:- [100,10,1,298,65,483,49876,2,80,9,9213]\n",
        "#Output:- [1,2,9,10,65,80,100,298,483,9213,49876]\n",
        "\n",
        "lst = [100,10,1,298,65,483,49876,2,80,9,9213]\n",
        "  \n",
        "lst.sort() \n",
        "  \n",
        "print(lst)\n"
      ],
      "execution_count": null,
      "outputs": [
        {
          "output_type": "stream",
          "text": [
            "[1, 2, 9, 10, 65, 80, 100, 298, 483, 9213, 49876]\n"
          ],
          "name": "stdout"
        }
      ]
    },
    {
      "cell_type": "code",
      "metadata": {
        "id": "VhKQJizZ94kg",
        "colab_type": "code",
        "colab": {
          "base_uri": "https://localhost:8080/",
          "height": 34
        },
        "outputId": "43e296b3-8caf-44e7-b817-4c190f8b4e48"
      },
      "source": [
        "#Write a Python program to get a sorted list in increasing order of last element in each tuple in a given list using loop.\n",
        "#Input:- [(5,4),(9,1),(2,3),(5,9),(7,6),(5,5)]\n",
        "#output:- [(9,1),(2,3),(5,4),(5,5),(7,6),(5,9)]\n",
        "\n",
        "lst = [(5,4),(9,1),(2,3),(5,9),(7,6),(5,5)]\n",
        "  \n",
        "def last(n): \n",
        "  return n[-1]\n",
        "\n",
        "def sort_list_last(lst):\n",
        "  return sorted(lst, key=last)\n",
        "\n",
        "print(sort_list_last(lst))\n"
      ],
      "execution_count": null,
      "outputs": [
        {
          "output_type": "stream",
          "text": [
            "[(9, 1), (2, 3), (5, 4), (5, 5), (7, 6), (5, 9)]\n"
          ],
          "name": "stdout"
        }
      ]
    },
    {
      "cell_type": "code",
      "metadata": {
        "id": "YJrCLYp694n_",
        "colab_type": "code",
        "colab": {
          "base_uri": "https://localhost:8080/",
          "height": 34
        },
        "outputId": "bb36c143-c4d0-4afb-966e-1a323db4c918"
      },
      "source": [
        "#Write a Python program to remove duplicate element from a list using loop.\n",
        "#Input:- [10,1,11,1,29,876,768,10,11,1,92,29,876]\n",
        "#Output:- [10,1,11,29,876,768,92]\n",
        "\n",
        "lst= [10,1,11,1,29,876,768,10,11,1,92,29,876]\n",
        "\n",
        "res=[]\n",
        "for i in lst:\n",
        "  if i not in res:\n",
        "    res.append(i)\n",
        "\n",
        "print((res))\n",
        "\n"
      ],
      "execution_count": null,
      "outputs": [
        {
          "output_type": "stream",
          "text": [
            "[10, 1, 11, 29, 876, 768, 92]\n"
          ],
          "name": "stdout"
        }
      ]
    },
    {
      "cell_type": "code",
      "metadata": {
        "id": "koYe4YCu94rh",
        "colab_type": "code",
        "colab": {
          "base_uri": "https://localhost:8080/",
          "height": 51
        },
        "outputId": "5c46f1bc-ae9a-4e44-991c-eaafcd33bdd5"
      },
      "source": [
        "#Write a Python program to check a list is empty or not?\n",
        "#Input:- []\n",
        "#Output:- List is empty\n",
        "#Input:- [10,20,30]\n",
        "#Output:- List is not empty\n",
        "\n",
        "lst= []\n",
        "if not lst:\n",
        "  print(\"list is empty\")\n",
        "else:\n",
        "  print(\"list is not empty\")\n",
        "\n",
        "\n",
        "lst1= [10,20,30]\n",
        "if not lst1:\n",
        "  print(\"list is empty\")\n",
        "else:\n",
        "  print(\"list is not empty\")\n"
      ],
      "execution_count": null,
      "outputs": [
        {
          "output_type": "stream",
          "text": [
            "list is empty\n",
            "list is not empty\n"
          ],
          "name": "stdout"
        }
      ]
    },
    {
      "cell_type": "code",
      "metadata": {
        "id": "mES1WANa94u5",
        "colab_type": "code",
        "colab": {
          "base_uri": "https://localhost:8080/",
          "height": 34
        },
        "outputId": "8e00e227-6d94-4a84-8847-6090563856cb"
      },
      "source": [
        "#Write a Python program to copy a list using loop.\n",
        "#inp_lst = [10,10.20,10+20j, 'Python', [10,20], (10,20)]\n",
        "#out_lst = [10,10.20,10+20j, 'Python', [10,20], (10,20)]\n",
        "\n",
        "lst= [10,10.20,10+20j, 'Python', [10,20], (10,20)]\n",
        "\n",
        "# lst_new= lst.copy()\n",
        "for elem in lst:\n",
        "  lst_new=[]\n",
        "  for elem in lst:\n",
        "    lst_new.append(elem)\n",
        "  \n",
        "print(\"New list is: \",lst_new)"
      ],
      "execution_count": null,
      "outputs": [
        {
          "output_type": "stream",
          "text": [
            "New list is:  [10, 10.2, (10+20j), 'Python', [10, 20], (10, 20)]\n"
          ],
          "name": "stdout"
        }
      ]
    },
    {
      "cell_type": "code",
      "metadata": {
        "id": "CpBh31WO94yi",
        "colab_type": "code",
        "colab": {
          "base_uri": "https://localhost:8080/",
          "height": 34
        },
        "outputId": "c2ca58e5-f6a9-4101-b440-4b51fce35db1"
      },
      "source": [
        "#Write a Python program to find the list of words that are longer than or equal to 4 from a given string.\n",
        "#Input:- 'How much wood would a woodchuck chuck if a woodchuck could chuck wood'\n",
        "#Output:- ['much', 'wood', 'would', 'woodchuck', 'chuck', 'could', 'could']\n",
        "#Note:- Duplicate should be avoided.\n",
        "\n",
        "str = 'How much wood would a woodchuck chuck if a woodchuck could chuck wood'\n",
        "\n",
        "def new_lst(n, str):\n",
        "    str1= []\n",
        "    text = str.split(\" \")\n",
        "    \n",
        "    for x in text:\n",
        "      if len(x) > 3:\n",
        "        if x not in str1:\n",
        "          str1.append(x)\n",
        "          \n",
        "    return str1    \n",
        "print(new_lst(3,str)) \n",
        "\n"
      ],
      "execution_count": null,
      "outputs": [
        {
          "output_type": "stream",
          "text": [
            "['much', 'wood', 'would', 'woodchuck', 'chuck', 'could']\n"
          ],
          "name": "stdout"
        }
      ]
    },
    {
      "cell_type": "code",
      "metadata": {
        "id": "YVfj0fgZ9416",
        "colab_type": "code",
        "colab": {
          "base_uri": "https://localhost:8080/",
          "height": 51
        },
        "outputId": "46dc83e1-03d5-425e-b233-a7595ba1bdb1"
      },
      "source": [
        "#Write a Python program which takes two list as input and returns True if they have at least 3 common elements.\n",
        "#inp_lst1 = [10,20,'Python', 10.20, 10+20j, [10,20,30], (10,20,30)]\n",
        "#inp_lst2 = [(10,20,30),1,20+3j,100.2, 10+20j, [10,20,30],'Python']\n",
        "#Output:- True\n",
        "\n",
        "lst1= [10,20,'Python', 10.20, 10+20j, [10,20,30], (10,20,30)]\n",
        "lst2= [(10,20,30),1,20+3j,100.2, 10+20j, [10,20,30],'Python']\n",
        "\n",
        "\n",
        "def data(lst1, lst2):\n",
        "  countdup=0\n",
        "  \n",
        "  for x in lst1:\n",
        "    for y in lst2:\n",
        "      # for z in lst1,lst2:\n",
        "        if x == y:\n",
        "          countdup=countdup+1\n",
        "  if countdup>=3:\n",
        "    print('True')\n",
        "  else:\n",
        "    print('False')\n",
        "print(data(lst1,lst2))\n"
      ],
      "execution_count": null,
      "outputs": [
        {
          "output_type": "stream",
          "text": [
            "True\n",
            "None\n"
          ],
          "name": "stdout"
        }
      ]
    },
    {
      "cell_type": "code",
      "metadata": {
        "id": "7vwc3pjR945O",
        "colab_type": "code",
        "colab": {
          "base_uri": "https://localhost:8080/",
          "height": 54
        },
        "outputId": "ff622cee-ad42-44ea-8bd7-9884bd2dc343"
      },
      "source": [
        "#Write a Python program to create a 4X4 2D matrix with below elements using loop and list comprehension both.\n",
        "#Output:- [[0,0,0,0],[0,1,2,3],[0,2,4,6],[0,3,6,9]]\n",
        "\n",
        "# list = []\n",
        "# for i in range(4):\n",
        "#   list.append([i])\n",
        "#   for j in range(4):\n",
        "    # lst= lst+1\n",
        "    # if i==0 and j==0:\n",
        "    #   list[i].append([])\n",
        "    # elif j ==0:\n",
        "    #   list[i].append(j)\n",
        "    # elif i%2:\n",
        "    #   list[i].append(j)\n",
        "    # elif not i%3:\n",
        "    #   list[i].append(j)\n",
        "\n",
        "\n",
        "\n"
      ],
      "execution_count": null,
      "outputs": [
        {
          "output_type": "stream",
          "text": [
            "[[[0, 0, 0, 0, 0, 0], [0, 0, 0, 0, 0, 0], [0, 0, 0, 0, 0, 0], [0, 0, 0, 0, 0, 0]], [[1, 1, 1, 1, 1, 1], [1, 1, 1, 1, 1, 1], [1, 1, 1, 1, 1, 1], [1, 1, 1, 1, 1, 1]], [[2, 2, 2, 2, 2, 2], [2, 2, 2, 2, 2, 2], [2, 2, 2, 2, 2, 2], [2, 2, 2, 2, 2, 2]]]\n"
          ],
          "name": "stdout"
        }
      ]
    },
    {
      "cell_type": "code",
      "metadata": {
        "id": "Pxafor84948b",
        "colab_type": "code",
        "colab": {
          "base_uri": "https://localhost:8080/",
          "height": 34
        },
        "outputId": "e36fa82f-42b3-4985-ff5a-86d6553e1502"
      },
      "source": [
        "#Write a Python program to create a 3X4X6 3D matrix wiith below elements using loop\n",
        "#Output:- \n",
        "# [\n",
        "#     [[0,0,0,0,0,0],[0,0,0,0,0,0],[0,0,0,0,0,0],[0,0,0,0,0,0]],\n",
        "#     [[0,0,0,0,0,0],[1,1,1,1,1,1],[2,2,2,2,2,2],[3,3,3,3,3,3]],\n",
        "#     [[0,0,0,0,0,0],[2,2,2,2,2,2],[4,4,4,4,4,4],[6,6,6,6,6,6]]\n",
        "# ]\n",
        "\n",
        "list = []\n",
        "\n",
        "for i in range(3):\n",
        "    list.append([])\n",
        "  \n",
        "\n",
        "    for j in range(4):\n",
        "        list[i].append([])\n",
        "        \n",
        "\n",
        "        for k in range(6):\n",
        "          if i%1==0:\n",
        "            list[i][j].append(i)\n",
        "          elif i%2==0:\n",
        "            list[i][j].append(i)\n",
        "\n",
        "print(list)"
      ],
      "execution_count": null,
      "outputs": [
        {
          "output_type": "stream",
          "text": [
            "None\n"
          ],
          "name": "stdout"
        }
      ]
    },
    {
      "cell_type": "code",
      "metadata": {
        "id": "lYNv8gk794_p",
        "colab_type": "code",
        "colab": {
          "base_uri": "https://localhost:8080/",
          "height": 34
        },
        "outputId": "1ec8d6b6-cdfb-4207-b979-db3ae6ecd0c3"
      },
      "source": [
        "#Write a Python program which takes a list of numbers as input and prints a new list after removing even numbers from it.\n",
        "#Input:- [10,21,22,98,87,45,33,1,2,100]\n",
        "#Output:- [21,87,45,33,1]\n",
        "\n",
        "lst= [10,21,22,98,87,45,33,1,2,100]\n",
        "lst1=[]\n",
        "for i in lst:\n",
        "\n",
        "  if ((i%2) != 0):\n",
        "    lst1.append(i)\n",
        "  \n",
        "print(lst1)\n"
      ],
      "execution_count": null,
      "outputs": [
        {
          "output_type": "stream",
          "text": [
            "[21, 87, 45, 33, 1]\n"
          ],
          "name": "stdout"
        }
      ]
    },
    {
      "cell_type": "code",
      "metadata": {
        "id": "3BaCb-rB95B7",
        "colab_type": "code",
        "colab": {
          "base_uri": "https://localhost:8080/",
          "height": 34
        },
        "outputId": "ea80bc6f-f17a-47a9-b948-875b0e6095c9"
      },
      "source": [
        "#Write a Python program which takes a list from the user and prints it after reshuffling the elements of the list.\n",
        "#Input:- [10,21,22,98,87,45,33,1,2,100]\n",
        "#Output:- [1,87,21,10,33,2,100,45,98,22] (It may be any randon list but with same elements)\n",
        "\n",
        "import random\n",
        "lst= [10,21,22,98,87,45,33,1,2,100]\n",
        "\n",
        "random.shuffle(lst)\n",
        "\n",
        "print(lst)"
      ],
      "execution_count": null,
      "outputs": [
        {
          "output_type": "stream",
          "text": [
            "[1, 87, 45, 2, 22, 100, 10, 33, 98, 21]\n"
          ],
          "name": "stdout"
        }
      ]
    }
  ]
}